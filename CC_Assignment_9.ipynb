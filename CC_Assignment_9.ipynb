{
  "nbformat": 4,
  "nbformat_minor": 0,
  "metadata": {
    "colab": {
      "provenance": []
    },
    "kernelspec": {
      "name": "python3",
      "display_name": "Python 3"
    },
    "language_info": {
      "name": "python"
    }
  },
  "cells": [
    {
      "cell_type": "code",
      "source": [
        "import string"
      ],
      "metadata": {
        "id": "jL-yAGBtykaE"
      },
      "execution_count": 1,
      "outputs": []
    },
    {
      "cell_type": "code",
      "source": [
        "# Imports and Downloads\n",
        "import nltk\n",
        "import re\n",
        "import string\n",
        "from nltk.tokenize import word_tokenize, sent_tokenize\n",
        "from nltk.corpus import stopwords\n",
        "from nltk.stem import PorterStemmer, LancasterStemmer, WordNetLemmatizer\n",
        "from nltk import FreqDist\n",
        "\n",
        "# Download required resources\n",
        "nltk.download('punkt')\n",
        "nltk.download('stopwords')\n",
        "nltk.download('wordnet')\n",
        "nltk.download('punkt_tab') # Download the punkt_tab resource"
      ],
      "metadata": {
        "colab": {
          "base_uri": "https://localhost:8080/"
        },
        "id": "s9wiSF0RzYmJ",
        "outputId": "172927ec-2c4e-4206-acbc-fd8b1abdf990"
      },
      "execution_count": 2,
      "outputs": [
        {
          "output_type": "stream",
          "name": "stderr",
          "text": [
            "[nltk_data] Downloading package punkt to /root/nltk_data...\n",
            "[nltk_data]   Unzipping tokenizers/punkt.zip.\n",
            "[nltk_data] Downloading package stopwords to /root/nltk_data...\n",
            "[nltk_data]   Unzipping corpora/stopwords.zip.\n",
            "[nltk_data] Downloading package wordnet to /root/nltk_data...\n",
            "[nltk_data] Downloading package punkt_tab to /root/nltk_data...\n",
            "[nltk_data]   Unzipping tokenizers/punkt_tab.zip.\n"
          ]
        },
        {
          "output_type": "execute_result",
          "data": {
            "text/plain": [
              "True"
            ]
          },
          "metadata": {},
          "execution_count": 2
        }
      ]
    },
    {
      "cell_type": "code",
      "execution_count": 3,
      "metadata": {
        "id": "KIJV3Yo3wZtY"
      },
      "outputs": [],
      "source": [
        "para = \"Classical music plays a vital role in Kathak, one of the eight major forms of Indian classical dance. It provides the rhythmic foundation and emotional depth that guide the dancer’s movements and expressions. Instruments like the tabla, harmonium, and sarangi are commonly used, creating a rich musical landscape that complements the intricate footwork and graceful gestures of the dancer. The music often follows the structure of Hindustani classical ragas and talas, allowing for both improvisation and precision. In Kathak performances, the dancer and musicians interact closely, creating a dynamic exchange of rhythm and expression. This fusion of music and dance enhances the storytelling aspect of Kathak, making each performance both visually and aurally captivating.\""
      ]
    },
    {
      "cell_type": "code",
      "source": [
        "para"
      ],
      "metadata": {
        "colab": {
          "base_uri": "https://localhost:8080/",
          "height": 199
        },
        "id": "MBCn05Q2yoaD",
        "outputId": "951d97b6-950b-4a78-b1ef-d5d189c01e46"
      },
      "execution_count": 4,
      "outputs": [
        {
          "output_type": "execute_result",
          "data": {
            "text/plain": [
              "'Classical music plays a vital role in Kathak, one of the eight major forms of Indian classical dance. It provides the rhythmic foundation and emotional depth that guide the dancer’s movements and expressions. Instruments like the tabla, harmonium, and sarangi are commonly used, creating a rich musical landscape that complements the intricate footwork and graceful gestures of the dancer. The music often follows the structure of Hindustani classical ragas and talas, allowing for both improvisation and precision. In Kathak performances, the dancer and musicians interact closely, creating a dynamic exchange of rhythm and expression. This fusion of music and dance enhances the storytelling aspect of Kathak, making each performance both visually and aurally captivating.'"
            ],
            "application/vnd.google.colaboratory.intrinsic+json": {
              "type": "string"
            }
          },
          "metadata": {},
          "execution_count": 4
        }
      ]
    },
    {
      "cell_type": "code",
      "source": [
        "lower_text = para.lower()"
      ],
      "metadata": {
        "id": "qeJpYilgxYag"
      },
      "execution_count": 5,
      "outputs": []
    },
    {
      "cell_type": "code",
      "source": [
        "lower_text"
      ],
      "metadata": {
        "colab": {
          "base_uri": "https://localhost:8080/",
          "height": 199
        },
        "id": "OHG23IlnyqO9",
        "outputId": "a7b6c0e4-2630-44ac-ac5a-429962c74b0d"
      },
      "execution_count": 6,
      "outputs": [
        {
          "output_type": "execute_result",
          "data": {
            "text/plain": [
              "'classical music plays a vital role in kathak, one of the eight major forms of indian classical dance. it provides the rhythmic foundation and emotional depth that guide the dancer’s movements and expressions. instruments like the tabla, harmonium, and sarangi are commonly used, creating a rich musical landscape that complements the intricate footwork and graceful gestures of the dancer. the music often follows the structure of hindustani classical ragas and talas, allowing for both improvisation and precision. in kathak performances, the dancer and musicians interact closely, creating a dynamic exchange of rhythm and expression. this fusion of music and dance enhances the storytelling aspect of kathak, making each performance both visually and aurally captivating.'"
            ],
            "application/vnd.google.colaboratory.intrinsic+json": {
              "type": "string"
            }
          },
          "metadata": {},
          "execution_count": 6
        }
      ]
    },
    {
      "cell_type": "code",
      "source": [
        "clean_text = lower_text.translate(str.maketrans('', '', string.punctuation))"
      ],
      "metadata": {
        "id": "4wh5bThRymAI"
      },
      "execution_count": 7,
      "outputs": []
    },
    {
      "cell_type": "code",
      "source": [
        "clean_text"
      ],
      "metadata": {
        "colab": {
          "base_uri": "https://localhost:8080/",
          "height": 199
        },
        "id": "6p9YPxOwytLL",
        "outputId": "d2c74f26-d65e-4be7-be81-94637aa1d0b4"
      },
      "execution_count": 8,
      "outputs": [
        {
          "output_type": "execute_result",
          "data": {
            "text/plain": [
              "'classical music plays a vital role in kathak one of the eight major forms of indian classical dance it provides the rhythmic foundation and emotional depth that guide the dancer’s movements and expressions instruments like the tabla harmonium and sarangi are commonly used creating a rich musical landscape that complements the intricate footwork and graceful gestures of the dancer the music often follows the structure of hindustani classical ragas and talas allowing for both improvisation and precision in kathak performances the dancer and musicians interact closely creating a dynamic exchange of rhythm and expression this fusion of music and dance enhances the storytelling aspect of kathak making each performance both visually and aurally captivating'"
            ],
            "application/vnd.google.colaboratory.intrinsic+json": {
              "type": "string"
            }
          },
          "metadata": {},
          "execution_count": 8
        }
      ]
    },
    {
      "cell_type": "code",
      "source": [
        "from nltk.tokenize import word_tokenize, sent_tokenize"
      ],
      "metadata": {
        "id": "PCR-ElOvL85X"
      },
      "execution_count": 9,
      "outputs": []
    },
    {
      "cell_type": "code",
      "source": [
        "word_tokens = word_tokenize(clean_text)"
      ],
      "metadata": {
        "id": "ilLJeqOrMHxf"
      },
      "execution_count": 10,
      "outputs": []
    },
    {
      "cell_type": "code",
      "source": [
        "word_tokens"
      ],
      "metadata": {
        "colab": {
          "base_uri": "https://localhost:8080/"
        },
        "id": "L583GK6aM58-",
        "outputId": "650737b8-73a6-433a-fcd5-1fb2eca75edf"
      },
      "execution_count": 11,
      "outputs": [
        {
          "output_type": "execute_result",
          "data": {
            "text/plain": [
              "['classical',\n",
              " 'music',\n",
              " 'plays',\n",
              " 'a',\n",
              " 'vital',\n",
              " 'role',\n",
              " 'in',\n",
              " 'kathak',\n",
              " 'one',\n",
              " 'of',\n",
              " 'the',\n",
              " 'eight',\n",
              " 'major',\n",
              " 'forms',\n",
              " 'of',\n",
              " 'indian',\n",
              " 'classical',\n",
              " 'dance',\n",
              " 'it',\n",
              " 'provides',\n",
              " 'the',\n",
              " 'rhythmic',\n",
              " 'foundation',\n",
              " 'and',\n",
              " 'emotional',\n",
              " 'depth',\n",
              " 'that',\n",
              " 'guide',\n",
              " 'the',\n",
              " 'dancer',\n",
              " '’',\n",
              " 's',\n",
              " 'movements',\n",
              " 'and',\n",
              " 'expressions',\n",
              " 'instruments',\n",
              " 'like',\n",
              " 'the',\n",
              " 'tabla',\n",
              " 'harmonium',\n",
              " 'and',\n",
              " 'sarangi',\n",
              " 'are',\n",
              " 'commonly',\n",
              " 'used',\n",
              " 'creating',\n",
              " 'a',\n",
              " 'rich',\n",
              " 'musical',\n",
              " 'landscape',\n",
              " 'that',\n",
              " 'complements',\n",
              " 'the',\n",
              " 'intricate',\n",
              " 'footwork',\n",
              " 'and',\n",
              " 'graceful',\n",
              " 'gestures',\n",
              " 'of',\n",
              " 'the',\n",
              " 'dancer',\n",
              " 'the',\n",
              " 'music',\n",
              " 'often',\n",
              " 'follows',\n",
              " 'the',\n",
              " 'structure',\n",
              " 'of',\n",
              " 'hindustani',\n",
              " 'classical',\n",
              " 'ragas',\n",
              " 'and',\n",
              " 'talas',\n",
              " 'allowing',\n",
              " 'for',\n",
              " 'both',\n",
              " 'improvisation',\n",
              " 'and',\n",
              " 'precision',\n",
              " 'in',\n",
              " 'kathak',\n",
              " 'performances',\n",
              " 'the',\n",
              " 'dancer',\n",
              " 'and',\n",
              " 'musicians',\n",
              " 'interact',\n",
              " 'closely',\n",
              " 'creating',\n",
              " 'a',\n",
              " 'dynamic',\n",
              " 'exchange',\n",
              " 'of',\n",
              " 'rhythm',\n",
              " 'and',\n",
              " 'expression',\n",
              " 'this',\n",
              " 'fusion',\n",
              " 'of',\n",
              " 'music',\n",
              " 'and',\n",
              " 'dance',\n",
              " 'enhances',\n",
              " 'the',\n",
              " 'storytelling',\n",
              " 'aspect',\n",
              " 'of',\n",
              " 'kathak',\n",
              " 'making',\n",
              " 'each',\n",
              " 'performance',\n",
              " 'both',\n",
              " 'visually',\n",
              " 'and',\n",
              " 'aurally',\n",
              " 'captivating']"
            ]
          },
          "metadata": {},
          "execution_count": 11
        }
      ]
    },
    {
      "cell_type": "code",
      "source": [
        "sent_tokens = sent_tokenize(lower_text)"
      ],
      "metadata": {
        "id": "sk4P7m9UM0wY"
      },
      "execution_count": 12,
      "outputs": []
    },
    {
      "cell_type": "code",
      "source": [
        "sent_tokens"
      ],
      "metadata": {
        "colab": {
          "base_uri": "https://localhost:8080/"
        },
        "id": "hUbcZSM3NF5m",
        "outputId": "056cd56e-f13a-4325-e555-5d636fa008c1"
      },
      "execution_count": 13,
      "outputs": [
        {
          "output_type": "execute_result",
          "data": {
            "text/plain": [
              "['classical music plays a vital role in kathak, one of the eight major forms of indian classical dance.',\n",
              " 'it provides the rhythmic foundation and emotional depth that guide the dancer’s movements and expressions.',\n",
              " 'instruments like the tabla, harmonium, and sarangi are commonly used, creating a rich musical landscape that complements the intricate footwork and graceful gestures of the dancer.',\n",
              " 'the music often follows the structure of hindustani classical ragas and talas, allowing for both improvisation and precision.',\n",
              " 'in kathak performances, the dancer and musicians interact closely, creating a dynamic exchange of rhythm and expression.',\n",
              " 'this fusion of music and dance enhances the storytelling aspect of kathak, making each performance both visually and aurally captivating.']"
            ]
          },
          "metadata": {},
          "execution_count": 13
        }
      ]
    },
    {
      "cell_type": "code",
      "source": [
        "from nltk.corpus import stopwords"
      ],
      "metadata": {
        "id": "e-Kgnht-NMfG"
      },
      "execution_count": 14,
      "outputs": []
    },
    {
      "cell_type": "code",
      "source": [
        "stop_words = set(stopwords.words('english'))"
      ],
      "metadata": {
        "id": "dxERjTnUNZ1V"
      },
      "execution_count": 15,
      "outputs": []
    },
    {
      "cell_type": "code",
      "source": [
        "filtered_words = [w for w in word_tokens if w.lower() not in stop_words]"
      ],
      "metadata": {
        "id": "w1ZhahWvNhfO"
      },
      "execution_count": 16,
      "outputs": []
    },
    {
      "cell_type": "code",
      "source": [
        "filtered_words"
      ],
      "metadata": {
        "colab": {
          "base_uri": "https://localhost:8080/"
        },
        "id": "9ySE6fMjNyyN",
        "outputId": "61449c95-d52e-41c0-bae8-f43d2afd7a3c"
      },
      "execution_count": 17,
      "outputs": [
        {
          "output_type": "execute_result",
          "data": {
            "text/plain": [
              "['classical',\n",
              " 'music',\n",
              " 'plays',\n",
              " 'vital',\n",
              " 'role',\n",
              " 'kathak',\n",
              " 'one',\n",
              " 'eight',\n",
              " 'major',\n",
              " 'forms',\n",
              " 'indian',\n",
              " 'classical',\n",
              " 'dance',\n",
              " 'provides',\n",
              " 'rhythmic',\n",
              " 'foundation',\n",
              " 'emotional',\n",
              " 'depth',\n",
              " 'guide',\n",
              " 'dancer',\n",
              " '’',\n",
              " 'movements',\n",
              " 'expressions',\n",
              " 'instruments',\n",
              " 'like',\n",
              " 'tabla',\n",
              " 'harmonium',\n",
              " 'sarangi',\n",
              " 'commonly',\n",
              " 'used',\n",
              " 'creating',\n",
              " 'rich',\n",
              " 'musical',\n",
              " 'landscape',\n",
              " 'complements',\n",
              " 'intricate',\n",
              " 'footwork',\n",
              " 'graceful',\n",
              " 'gestures',\n",
              " 'dancer',\n",
              " 'music',\n",
              " 'often',\n",
              " 'follows',\n",
              " 'structure',\n",
              " 'hindustani',\n",
              " 'classical',\n",
              " 'ragas',\n",
              " 'talas',\n",
              " 'allowing',\n",
              " 'improvisation',\n",
              " 'precision',\n",
              " 'kathak',\n",
              " 'performances',\n",
              " 'dancer',\n",
              " 'musicians',\n",
              " 'interact',\n",
              " 'closely',\n",
              " 'creating',\n",
              " 'dynamic',\n",
              " 'exchange',\n",
              " 'rhythm',\n",
              " 'expression',\n",
              " 'fusion',\n",
              " 'music',\n",
              " 'dance',\n",
              " 'enhances',\n",
              " 'storytelling',\n",
              " 'aspect',\n",
              " 'kathak',\n",
              " 'making',\n",
              " 'performance',\n",
              " 'visually',\n",
              " 'aurally',\n",
              " 'captivating']"
            ]
          },
          "metadata": {},
          "execution_count": 17
        }
      ]
    },
    {
      "cell_type": "code",
      "source": [
        "from nltk import FreqDist"
      ],
      "metadata": {
        "id": "3nate-x_N1NF"
      },
      "execution_count": 18,
      "outputs": []
    },
    {
      "cell_type": "code",
      "source": [
        "fd = FreqDist(filtered_words)"
      ],
      "metadata": {
        "id": "J-OZfBiqN8Zd"
      },
      "execution_count": 19,
      "outputs": []
    },
    {
      "cell_type": "code",
      "source": [
        "fd.plot(20, title = \"Top Words\")"
      ],
      "metadata": {
        "colab": {
          "base_uri": "https://localhost:8080/",
          "height": 551
        },
        "id": "6VRNOvAHOBd9",
        "outputId": "f3cdf5ee-7e93-4716-a247-6cde35d690b3"
      },
      "execution_count": 20,
      "outputs": [
        {
          "output_type": "execute_result",
          "data": {
            "text/plain": [
              "<Axes: title={'center': 'Top Words'}, xlabel='Samples', ylabel='Counts'>"
            ]
          },
          "metadata": {},
          "execution_count": 20
        },
        {
          "output_type": "display_data",
          "data": {
            "text/plain": [
              "<Figure size 640x480 with 1 Axes>"
            ],
            "image/png": "[encoded data removed]"
          },
          "metadata": {}
        }
      ]
    },
    {
      "cell_type": "code",
      "source": [
        "from nltk.stem import PorterStemmer, WordNetLemmatizer"
      ],
      "metadata": {
        "id": "z-qNxgS5PLIU"
      },
      "execution_count": 21,
      "outputs": []
    },
    {
      "cell_type": "code",
      "source": [
        "ps = PorterStemmer()"
      ],
      "metadata": {
        "id": "suAnRlDQPVG0"
      },
      "execution_count": 22,
      "outputs": []
    },
    {
      "cell_type": "code",
      "source": [
        "lm = WordNetLemmatizer()"
      ],
      "metadata": {
        "id": "oJOdJM9WPZqk"
      },
      "execution_count": 23,
      "outputs": []
    },
    {
      "cell_type": "code",
      "source": [
        "for word in filtered_words:\n",
        "  print(f\"{word}-> Stemmed: {ps.stem(word)}, Lemmatized: {lm.lemmatize(word)}\")"
      ],
      "metadata": {
        "colab": {
          "base_uri": "https://localhost:8080/"
        },
        "id": "0a9xAuMUPdft",
        "outputId": "9cc4080c-d925-4abc-df91-c723ec50145c"
      },
      "execution_count": 24,
      "outputs": [
        {
          "output_type": "stream",
          "name": "stdout",
          "text": [
            "classical-> Stemmed: classic, Lemmatized: classical\n",
            "music-> Stemmed: music, Lemmatized: music\n",
            "plays-> Stemmed: play, Lemmatized: play\n",
            "vital-> Stemmed: vital, Lemmatized: vital\n",
            "role-> Stemmed: role, Lemmatized: role\n",
            "kathak-> Stemmed: kathak, Lemmatized: kathak\n",
            "one-> Stemmed: one, Lemmatized: one\n",
            "eight-> Stemmed: eight, Lemmatized: eight\n",
            "major-> Stemmed: major, Lemmatized: major\n",
            "forms-> Stemmed: form, Lemmatized: form\n",
            "indian-> Stemmed: indian, Lemmatized: indian\n",
            "classical-> Stemmed: classic, Lemmatized: classical\n",
            "dance-> Stemmed: danc, Lemmatized: dance\n",
            "provides-> Stemmed: provid, Lemmatized: provides\n",
            "rhythmic-> Stemmed: rhythmic, Lemmatized: rhythmic\n",
            "foundation-> Stemmed: foundat, Lemmatized: foundation\n",
            "emotional-> Stemmed: emot, Lemmatized: emotional\n",
            "depth-> Stemmed: depth, Lemmatized: depth\n",
            "guide-> Stemmed: guid, Lemmatized: guide\n",
            "dancer-> Stemmed: dancer, Lemmatized: dancer\n",
            "’-> Stemmed: ’, Lemmatized: ’\n",
            "movements-> Stemmed: movement, Lemmatized: movement\n",
            "expressions-> Stemmed: express, Lemmatized: expression\n",
            "instruments-> Stemmed: instrument, Lemmatized: instrument\n",
            "like-> Stemmed: like, Lemmatized: like\n",
            "tabla-> Stemmed: tabla, Lemmatized: tabla\n",
            "harmonium-> Stemmed: harmonium, Lemmatized: harmonium\n",
            "sarangi-> Stemmed: sarangi, Lemmatized: sarangi\n",
            "commonly-> Stemmed: commonli, Lemmatized: commonly\n",
            "used-> Stemmed: use, Lemmatized: used\n",
            "creating-> Stemmed: creat, Lemmatized: creating\n",
            "rich-> Stemmed: rich, Lemmatized: rich\n",
            "musical-> Stemmed: music, Lemmatized: musical\n",
            "landscape-> Stemmed: landscap, Lemmatized: landscape\n",
            "complements-> Stemmed: complement, Lemmatized: complement\n",
            "intricate-> Stemmed: intric, Lemmatized: intricate\n",
            "footwork-> Stemmed: footwork, Lemmatized: footwork\n",
            "graceful-> Stemmed: grace, Lemmatized: graceful\n",
            "gestures-> Stemmed: gestur, Lemmatized: gesture\n",
            "dancer-> Stemmed: dancer, Lemmatized: dancer\n",
            "music-> Stemmed: music, Lemmatized: music\n",
            "often-> Stemmed: often, Lemmatized: often\n",
            "follows-> Stemmed: follow, Lemmatized: follows\n",
            "structure-> Stemmed: structur, Lemmatized: structure\n",
            "hindustani-> Stemmed: hindustani, Lemmatized: hindustani\n",
            "classical-> Stemmed: classic, Lemmatized: classical\n",
            "ragas-> Stemmed: raga, Lemmatized: ragas\n",
            "talas-> Stemmed: tala, Lemmatized: tala\n",
            "allowing-> Stemmed: allow, Lemmatized: allowing\n",
            "improvisation-> Stemmed: improvis, Lemmatized: improvisation\n",
            "precision-> Stemmed: precis, Lemmatized: precision\n",
            "kathak-> Stemmed: kathak, Lemmatized: kathak\n",
            "performances-> Stemmed: perform, Lemmatized: performance\n",
            "dancer-> Stemmed: dancer, Lemmatized: dancer\n",
            "musicians-> Stemmed: musician, Lemmatized: musician\n",
            "interact-> Stemmed: interact, Lemmatized: interact\n",
            "closely-> Stemmed: close, Lemmatized: closely\n",
            "creating-> Stemmed: creat, Lemmatized: creating\n",
            "dynamic-> Stemmed: dynam, Lemmatized: dynamic\n",
            "exchange-> Stemmed: exchang, Lemmatized: exchange\n",
            "rhythm-> Stemmed: rhythm, Lemmatized: rhythm\n",
            "expression-> Stemmed: express, Lemmatized: expression\n",
            "fusion-> Stemmed: fusion, Lemmatized: fusion\n",
            "music-> Stemmed: music, Lemmatized: music\n",
            "dance-> Stemmed: danc, Lemmatized: dance\n",
            "enhances-> Stemmed: enhanc, Lemmatized: enhances\n",
            "storytelling-> Stemmed: storytel, Lemmatized: storytelling\n",
            "aspect-> Stemmed: aspect, Lemmatized: aspect\n",
            "kathak-> Stemmed: kathak, Lemmatized: kathak\n",
            "making-> Stemmed: make, Lemmatized: making\n",
            "performance-> Stemmed: perform, Lemmatized: performance\n",
            "visually-> Stemmed: visual, Lemmatized: visually\n",
            "aurally-> Stemmed: aural, Lemmatized: aurally\n",
            "captivating-> Stemmed: captiv, Lemmatized: captivating\n"
          ]
        }
      ]
    },
    {
      "cell_type": "code",
      "source": [
        "words = re.findall(r'\\b[a-zA-Z]{6,}\\b', para)\n",
        "print(\"Words with more than 5 letters:\", words)"
      ],
      "metadata": {
        "id": "G1irdBUtP-Gs",
        "colab": {
          "base_uri": "https://localhost:8080/"
        },
        "outputId": "c439e1ed-be2e-4e82-ea4b-31615c384c92"
      },
      "execution_count": 26,
      "outputs": [
        {
          "output_type": "stream",
          "name": "stdout",
          "text": [
            "Words with more than 5 letters: ['Classical', 'Kathak', 'Indian', 'classical', 'provides', 'rhythmic', 'foundation', 'emotional', 'dancer', 'movements', 'expressions', 'Instruments', 'harmonium', 'sarangi', 'commonly', 'creating', 'musical', 'landscape', 'complements', 'intricate', 'footwork', 'graceful', 'gestures', 'dancer', 'follows', 'structure', 'Hindustani', 'classical', 'allowing', 'improvisation', 'precision', 'Kathak', 'performances', 'dancer', 'musicians', 'interact', 'closely', 'creating', 'dynamic', 'exchange', 'rhythm', 'expression', 'fusion', 'enhances', 'storytelling', 'aspect', 'Kathak', 'making', 'performance', 'visually', 'aurally', 'captivating']\n"
          ]
        }
      ]
    },
    {
      "cell_type": "code",
      "source": [
        "numbers = re.findall(r'\\d+', para)\n",
        "print(\"Numbers:\", numbers)"
      ],
      "metadata": {
        "colab": {
          "base_uri": "https://localhost:8080/"
        },
        "id": "Ozj7ZMnF1XMu",
        "outputId": "f4c43570-8816-4faa-8fe4-209c559f8ba3"
      },
      "execution_count": 27,
      "outputs": [
        {
          "output_type": "stream",
          "name": "stdout",
          "text": [
            "Numbers: []\n"
          ]
        }
      ]
    },
    {
      "cell_type": "code",
      "source": [
        "capitalized = re.findall(r'\\b[A-Z][a-z]*\\b', para)\n",
        "print(\"Capitalized words:\", capitalized)"
      ],
      "metadata": {
        "colab": {
          "base_uri": "https://localhost:8080/"
        },
        "id": "Do2vk7__1oFD",
        "outputId": "261c5139-cf42-48b5-ded9-4b9e00ee7917"
      },
      "execution_count": 28,
      "outputs": [
        {
          "output_type": "stream",
          "name": "stdout",
          "text": [
            "Capitalized words: ['Classical', 'Kathak', 'Indian', 'It', 'Instruments', 'The', 'Hindustani', 'In', 'Kathak', 'This', 'Kathak']\n"
          ]
        }
      ]
    },
    {
      "cell_type": "code",
      "source": [
        "alphas = re.findall(r'\\b[a-zA-Z]+\\b', para)\n",
        "print(\"Alphabet-only words:\", alphas)"
      ],
      "metadata": {
        "colab": {
          "base_uri": "https://localhost:8080/"
        },
        "id": "5OOC7dXk1wwn",
        "outputId": "aebc6ee1-06cb-4fbc-acf4-1cbce0981141"
      },
      "execution_count": 29,
      "outputs": [
        {
          "output_type": "stream",
          "name": "stdout",
          "text": [
            "Alphabet-only words: ['Classical', 'music', 'plays', 'a', 'vital', 'role', 'in', 'Kathak', 'one', 'of', 'the', 'eight', 'major', 'forms', 'of', 'Indian', 'classical', 'dance', 'It', 'provides', 'the', 'rhythmic', 'foundation', 'and', 'emotional', 'depth', 'that', 'guide', 'the', 'dancer', 's', 'movements', 'and', 'expressions', 'Instruments', 'like', 'the', 'tabla', 'harmonium', 'and', 'sarangi', 'are', 'commonly', 'used', 'creating', 'a', 'rich', 'musical', 'landscape', 'that', 'complements', 'the', 'intricate', 'footwork', 'and', 'graceful', 'gestures', 'of', 'the', 'dancer', 'The', 'music', 'often', 'follows', 'the', 'structure', 'of', 'Hindustani', 'classical', 'ragas', 'and', 'talas', 'allowing', 'for', 'both', 'improvisation', 'and', 'precision', 'In', 'Kathak', 'performances', 'the', 'dancer', 'and', 'musicians', 'interact', 'closely', 'creating', 'a', 'dynamic', 'exchange', 'of', 'rhythm', 'and', 'expression', 'This', 'fusion', 'of', 'music', 'and', 'dance', 'enhances', 'the', 'storytelling', 'aspect', 'of', 'Kathak', 'making', 'each', 'performance', 'both', 'visually', 'and', 'aurally', 'captivating']\n"
          ]
        }
      ]
    },
    {
      "cell_type": "code",
      "source": [
        "vowel_words = [word for word in alphas if re.match(r'^[aeiouAEIOU]', word)]\n",
        "print(\"Words starting with a vowel:\", vowel_words)"
      ],
      "metadata": {
        "colab": {
          "base_uri": "https://localhost:8080/"
        },
        "id": "0_AzCO3R15bh",
        "outputId": "0122b381-6897-42c6-d40b-d578c4229591"
      },
      "execution_count": 30,
      "outputs": [
        {
          "output_type": "stream",
          "name": "stdout",
          "text": [
            "Words starting with a vowel: ['a', 'in', 'one', 'of', 'eight', 'of', 'Indian', 'It', 'and', 'emotional', 'and', 'expressions', 'Instruments', 'and', 'are', 'used', 'a', 'intricate', 'and', 'of', 'often', 'of', 'and', 'allowing', 'improvisation', 'and', 'In', 'and', 'interact', 'a', 'exchange', 'of', 'and', 'expression', 'of', 'and', 'enhances', 'aspect', 'of', 'each', 'and', 'aurally']\n"
          ]
        }
      ]
    },
    {
      "cell_type": "code",
      "source": [
        "def custom_tokenizer(text):\n",
        "    pattern = r\"\\b\\w+(?:-\\w+)*\\b|\\d+\\.\\d+|\\w+'\\w+\"\n",
        "    return re.findall(pattern, text)\n",
        "print(custom_tokenizer(para))"
      ],
      "metadata": {
        "colab": {
          "base_uri": "https://localhost:8080/"
        },
        "id": "8o955qWy2Jm6",
        "outputId": "acc30dd5-112d-46b5-9949-c33aa4362c50"
      },
      "execution_count": 31,
      "outputs": [
        {
          "output_type": "stream",
          "name": "stdout",
          "text": [
            "['Classical', 'music', 'plays', 'a', 'vital', 'role', 'in', 'Kathak', 'one', 'of', 'the', 'eight', 'major', 'forms', 'of', 'Indian', 'classical', 'dance', 'It', 'provides', 'the', 'rhythmic', 'foundation', 'and', 'emotional', 'depth', 'that', 'guide', 'the', 'dancer', 's', 'movements', 'and', 'expressions', 'Instruments', 'like', 'the', 'tabla', 'harmonium', 'and', 'sarangi', 'are', 'commonly', 'used', 'creating', 'a', 'rich', 'musical', 'landscape', 'that', 'complements', 'the', 'intricate', 'footwork', 'and', 'graceful', 'gestures', 'of', 'the', 'dancer', 'The', 'music', 'often', 'follows', 'the', 'structure', 'of', 'Hindustani', 'classical', 'ragas', 'and', 'talas', 'allowing', 'for', 'both', 'improvisation', 'and', 'precision', 'In', 'Kathak', 'performances', 'the', 'dancer', 'and', 'musicians', 'interact', 'closely', 'creating', 'a', 'dynamic', 'exchange', 'of', 'rhythm', 'and', 'expression', 'This', 'fusion', 'of', 'music', 'and', 'dance', 'enhances', 'the', 'storytelling', 'aspect', 'of', 'Kathak', 'making', 'each', 'performance', 'both', 'visually', 'and', 'aurally', 'captivating']\n"
          ]
        }
      ]
    },
    {
      "cell_type": "code",
      "source": [
        "print(re.findall(r'\\S+@\\S+', para))\n",
        "print(re.sub(r'https?://[^\\s]+', '<URL>', para))\n",
        "print(re.findall(r'(\\+91\\s?)?\\d{10}', para))"
      ],
      "metadata": {
        "colab": {
          "base_uri": "https://localhost:8080/"
        },
        "id": "3DUsQLkQ2vMO",
        "outputId": "5b43cc3e-0153-441f-a837-5b382063a1cb"
      },
      "execution_count": 32,
      "outputs": [
        {
          "output_type": "stream",
          "name": "stdout",
          "text": [
            "[]\n",
            "Classical music plays a vital role in Kathak, one of the eight major forms of Indian classical dance. It provides the rhythmic foundation and emotional depth that guide the dancer’s movements and expressions. Instruments like the tabla, harmonium, and sarangi are commonly used, creating a rich musical landscape that complements the intricate footwork and graceful gestures of the dancer. The music often follows the structure of Hindustani classical ragas and talas, allowing for both improvisation and precision. In Kathak performances, the dancer and musicians interact closely, creating a dynamic exchange of rhythm and expression. This fusion of music and dance enhances the storytelling aspect of Kathak, making each performance both visually and aurally captivating.\n",
            "[]\n"
          ]
        }
      ]
    }
  ]
}