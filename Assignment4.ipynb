{
 "cells": [
  {
   "cell_type": "markdown",
   "id": "3aa1dfd8-55af-4ae5-9c2e-93fde5f7941f",
   "metadata": {},
   "source": [
    "# Q.1 Write a program to create a NumPy 1D-array with 5 elements and perform basic operations like:\n",
    "- Addition of 2 in all the element\n",
    "- Multiply 3 with all the elements\n",
    "- Divide every element by 2"
   ]
  },
  {
   "cell_type": "code",
   "execution_count": 13,
   "id": "37e31327-c272-4c37-bf30-cdff633d2eee",
   "metadata": {},
   "outputs": [
    {
     "name": "stdout",
     "output_type": "stream",
     "text": [
      "[2 3 4 5 6]\n",
      "[ 6  9 12 15 18]\n",
      "[3.  4.5 6.  7.5 9. ]\n"
     ]
    }
   ],
   "source": [
    "import numpy as np\n",
    "a = np.array([0, 1, 2, 3, 4])\n",
    "a = a + 2\n",
    "print(a)\n",
    "a = a * 3\n",
    "print(a)\n",
    "a = a / 2\n",
    "print(a)"
   ]
  },
  {
   "cell_type": "markdown",
   "id": "55796953-4ac3-4a3c-9cd2-6527edc43ac0",
   "metadata": {},
   "source": [
    "# Q.2 Questions on Basic NumPy Array:\n",
    "- Reverse the NumPy array: arr = np.array([1, 2, 3, 6, 4, 5])\n",
    "- Find the most frequent value and their indice(s) in the following arrays:\n",
    "  *  x = np.array([1,2,3,4,5,1,2,1,1,1])\n",
    "  *  y = np.array([1, 1, 1, 2, 3, 4, 2, 4, 3, 3, ])"
   ]
  },
  {
   "cell_type": "code",
   "execution_count": 24,
   "id": "856dc197-af1f-45c2-90a0-75e4784df621",
   "metadata": {},
   "outputs": [
    {
     "name": "stdout",
     "output_type": "stream",
     "text": [
      "[5 4 6 3 2 1]\n",
      "The most frequent in x is 1 at indices [0 5 7 8 9]\n",
      "The most frequent in y is 1 at indices [0 1 2]\n"
     ]
    }
   ],
   "source": [
    "a = np.array([1, 2, 3, 6, 4, 5])\n",
    "a = a[::-1]\n",
    "print(a)\n",
    "x = np.array([1, 2, 3, 4, 5, 1, 2, 1, 1, 1])\n",
    "m_freq = np.bincount(x).argmax()\n",
    "indices = np.where(x == m_freq)[0]\n",
    "print(\"The most frequent in x is\", m_freq, \"at indices\", indices)\n",
    "y = ([1, 1, 1, 2, 3, 4, 2, 4, 3, 3])\n",
    "m_freq = np.bincount(y).argmax()\n",
    "indices = np.where(y == m_freq)[0]\n",
    "print(\"The most frequent in y is\", m_freq, \"at indices\", indices)"
   ]
  },
  {
   "cell_type": "markdown",
   "id": "32cca5e8-ee74-4003-8ea5-46d54fd9f67e",
   "metadata": {},
   "source": [
    "# Q.3 For the given 2-D array arr=np.array([10, 20, 30], [40, 50, 60], [70, 80, 90]), access elements using row and column indices as follows:\n",
    "- Access 1st row, 2nd column\n",
    "- Access 3rd row, 1st column:"
   ]
  },
  {
   "cell_type": "code",
   "execution_count": 36,
   "id": "7572f1f6-2e75-4da9-adb4-029a2cbffc33",
   "metadata": {},
   "outputs": [
    {
     "name": "stdout",
     "output_type": "stream",
     "text": [
      "Value at 1st row, 2nd column 20\n",
      "Value at 3rd row, 1st column 70\n"
     ]
    }
   ],
   "source": [
    "arr = np.array([[10, 20, 30], [40, 50, 60], [70, 80, 90]])\n",
    "print(\"Value at 1st row, 2nd column\", arr[0, 1])\n",
    "print(\"Value at 3rd row, 1st column\",arr[2, 0])"
   ]
  },
  {
   "cell_type": "markdown",
   "id": "47f8c981-90d4-46b2-b9eb-9b86dea64ca5",
   "metadata": {},
   "source": [
    "# Q.4 Write program to create an 1-D NumPy array named <<Your Name>> with evenly spaced 25 numbers from 10 to 100 using linspace(). Print the dimensions of the array,shape, total elements, the data type of each element and total number of bytes consumed by the array. Find the transpose of this array using reshape() attribute. Can we do the same with T attribute?"
   ]
  },
  {
   "cell_type": "code",
   "execution_count": 3,
   "id": "96c5b858-ee56-4db4-a534-f9844329db52",
   "metadata": {},
   "outputs": [
    {
     "name": "stdout",
     "output_type": "stream",
     "text": [
      "Dimensions of array: 1\n",
      "Shape of array: (25,)\n",
      "Total Elements of array: 25\n",
      "Data Type of array: float64\n",
      "Total Bytes consumed by array: 200\n",
      "Transpose using reshape [[ 10.  ]\n",
      " [ 13.75]\n",
      " [ 17.5 ]\n",
      " [ 21.25]\n",
      " [ 25.  ]\n",
      " [ 28.75]\n",
      " [ 32.5 ]\n",
      " [ 36.25]\n",
      " [ 40.  ]\n",
      " [ 43.75]\n",
      " [ 47.5 ]\n",
      " [ 51.25]\n",
      " [ 55.  ]\n",
      " [ 58.75]\n",
      " [ 62.5 ]\n",
      " [ 66.25]\n",
      " [ 70.  ]\n",
      " [ 73.75]\n",
      " [ 77.5 ]\n",
      " [ 81.25]\n",
      " [ 85.  ]\n",
      " [ 88.75]\n",
      " [ 92.5 ]\n",
      " [ 96.25]\n",
      " [100.  ]]\n",
      "Transpose using T attribute [ 10.    13.75  17.5   21.25  25.    28.75  32.5   36.25  40.    43.75\n",
      "  47.5   51.25  55.    58.75  62.5   66.25  70.    73.75  77.5   81.25\n",
      "  85.    88.75  92.5   96.25 100.  ]\n"
     ]
    }
   ],
   "source": [
    "import numpy as np\n",
    "Janhvi = np.linspace(10, 100, 25)\n",
    "print(\"Dimensions of array:\", Janhvi.ndim)\n",
    "print(\"Shape of array:\", Janhvi.shape)\n",
    "print(\"Total Elements of array:\", Janhvi.size)\n",
    "print(\"Data Type of array:\", Janhvi.dtype)\n",
    "print(\"Total Bytes consumed by array:\", Janhvi.nbytes)\n",
    "transpose1 = Janhvi.reshape(25, 1)\n",
    "print(\"Transpose using reshape\", transpose1)\n",
    "transpose2 = Janhvi.T\n",
    "print(\"Transpose using T attribute\", transpose2)"
   ]
  },
  {
   "cell_type": "markdown",
   "id": "8ab2b6ea-8fa3-4bc0-a153-ead43dbaecc3",
   "metadata": {},
   "source": [
    "# Q5. Create a 2-D Array of three rows and four columns, named ucs420_<your_name>> with following values – 10, 20, 30, 40, 50, 60, 70, 80, 90, 15, 20, 35. Compute the mean, median, max, min, unique elements. Reshape the array to four rows and three columns and name it as reshaped_ ucs420_<your_name>>. Resize the array to two rows and three columns and name it as resized_ ucs420_<your_name>>."
   ]
  },
  {
   "cell_type": "code",
   "execution_count": 17,
   "id": "64ef3fa3-2ce0-42d5-bd3f-eb4449a10455",
   "metadata": {},
   "outputs": [
    {
     "name": "stdout",
     "output_type": "stream",
     "text": [
      "Mean: 43.333333333333336\n",
      "Median: 37.5\n",
      "Max: 90\n",
      "Min: 10\n",
      "Unique: [10 15 20 30 35 40 50 60 70 80 90]\n",
      "Reshaped Array: [[10 20 30]\n",
      " [40 50 60]\n",
      " [70 80 90]\n",
      " [15 20 35]]\n",
      "Resized Array: [[10 20 30]\n",
      " [40 50 60]]\n"
     ]
    }
   ],
   "source": [
    "ucs420_Janhvi = np.array([[10, 20, 30, 40], [50, 60, 70, 80], [90, 15, 20, 35]])\n",
    "mean = np.mean(ucs420_Janhvi)\n",
    "print(\"Mean:\", mean)\n",
    "median = np.median(ucs420_Janhvi)\n",
    "print(\"Median:\", median)\n",
    "max = np.max(ucs420_Janhvi)\n",
    "print(\"Max:\", max)\n",
    "min = np.min(ucs420_Janhvi)\n",
    "print(\"Min:\", min)\n",
    "unique = np.unique(ucs420_Janhvi)\n",
    "print(\"Unique:\", unique)\n",
    "reshaped_ucs420_Janhvi = ucs420_Janhvi.reshape(4, 3)\n",
    "print(\"Reshaped Array:\", reshaped_ucs420_Janhvi)\n",
    "resized_ucs420_Janhvi = np.resize(ucs420_Janhvi, (2, 3))\n",
    "print(\"Resized Array:\", resized_ucs420_Janhvi)"
   ]
  }
 ],
 "metadata": {
  "kernelspec": {
   "display_name": "Python [conda env:base] *",
   "language": "python",
   "name": "conda-base-py"
  },
  "language_info": {
   "codemirror_mode": {
    "name": "ipython",
    "version": 3
   },
   "file_extension": ".py",
   "mimetype": "text/x-python",
   "name": "python",
   "nbconvert_exporter": "python",
   "pygments_lexer": "ipython3",
   "version": "3.11.7"
  }
 },
 "nbformat": 4,
 "nbformat_minor": 5
}
