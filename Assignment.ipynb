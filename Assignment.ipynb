{
 "cells": [
  {
   "cell_type": "markdown",
   "id": "a67ed092-10c0-4bd0-aacf-5df14f6db54f",
   "metadata": {},
   "source": [
    "# ASSIGNMENT"
   ]
  },
  {
   "cell_type": "markdown",
   "id": "dbe85884-a5cf-4ef2-b344-ac651512ba22",
   "metadata": {},
   "source": [
    "## 1. Hello World\n",
    "### Write a Python program to print \"Anything You find cool.\""
   ]
  },
  {
   "cell_type": "code",
   "execution_count": 7,
   "id": "b1c29196-72a1-4ca6-b285-f5fda47bd675",
   "metadata": {},
   "outputs": [
    {
     "name": "stdout",
     "output_type": "stream",
     "text": [
      "Anything You find cool\n"
     ]
    }
   ],
   "source": [
    "print(\"Anything You find cool\")"
   ]
  },
  {
   "cell_type": "markdown",
   "id": "22172383-091d-4feb-931e-fb7fb99b6e28",
   "metadata": {},
   "source": [
    "## 2. Add Numbers and Concatenate Strings\r",
    "###  2.1 Write a program to add two numbers and print the result."
   ]
  },
  {
   "cell_type": "code",
   "execution_count": 10,
   "id": "d76ef409-f5a7-485b-ba9d-da16e5f27bdc",
   "metadata": {},
   "outputs": [
    {
     "name": "stdout",
     "output_type": "stream",
     "text": [
      "5\n"
     ]
    }
   ],
   "source": [
    "a = 2\n",
    "b = 3\n",
    "c = a + b\n",
    "print(c)"
   ]
  },
  {
   "cell_type": "markdown",
   "id": "09698223-8080-458b-adb1-0a87a26c71d4",
   "metadata": {},
   "source": [
    "### 2.2 Write a program to concatenate two strings and print the result."
   ]
  },
  {
   "cell_type": "code",
   "execution_count": 13,
   "id": "44ffbd5d-c1eb-4978-b919-4cd942cd5500",
   "metadata": {},
   "outputs": [
    {
     "name": "stdout",
     "output_type": "stream",
     "text": [
      "HeyBixby\n"
     ]
    }
   ],
   "source": [
    "a = 'Hey'\n",
    "b = 'Bixby'\n",
    "c = a + b\n",
    "print(c)"
   ]
  },
  {
   "cell_type": "markdown",
   "id": "9774130f-d172-47a7-991c-4e97185c14ab",
   "metadata": {},
   "source": [
    "### 2.3 Write a program to concatenate a string and a number and print the result."
   ]
  },
  {
   "cell_type": "code",
   "execution_count": 16,
   "id": "d56ec89e-de98-4673-b135-0ac730074a90",
   "metadata": {},
   "outputs": [
    {
     "name": "stdout",
     "output_type": "stream",
     "text": [
      "abc123\n"
     ]
    }
   ],
   "source": [
    "a = 'abc'\n",
    "b = 123\n",
    "c = a + str(b)\n",
    "print(c)"
   ]
  },
  {
   "cell_type": "markdown",
   "id": "ba362b96-98e4-4ca4-af88-cb91107e8d79",
   "metadata": {},
   "source": [
    "## 3. If-Else Statements\n",
    "### 3.1 Write a Python program to check if a number is positive, negative, or zero using an if-else statement."
   ]
  },
  {
   "cell_type": "code",
   "execution_count": 21,
   "id": "8babf629-49b5-4b7a-89c5-9db2ee72fc7d",
   "metadata": {},
   "outputs": [
    {
     "name": "stdin",
     "output_type": "stream",
     "text": [
      "Enter the number: 2\n"
     ]
    },
    {
     "name": "stdout",
     "output_type": "stream",
     "text": [
      "Positive\n"
     ]
    }
   ],
   "source": [
    "a = int(input('Enter the number:'))\n",
    "if a > 0:\n",
    "    print('Positive')\n",
    "elif a < 0:\n",
    "    print('Negative')\n",
    "else:\n",
    "    print('Zero')"
   ]
  },
  {
   "cell_type": "markdown",
   "id": "1c2536bd-ef77-4bf7-adcb-2bcc657d5961",
   "metadata": {},
   "source": [
    "### 3.2 Write a program to check if a given number is odd or even."
   ]
  },
  {
   "cell_type": "code",
   "execution_count": 26,
   "id": "de3f6eb5-97da-4b2a-90e0-bdcffb736c26",
   "metadata": {},
   "outputs": [
    {
     "name": "stdin",
     "output_type": "stream",
     "text": [
      "Enter the number: 5\n"
     ]
    },
    {
     "name": "stdout",
     "output_type": "stream",
     "text": [
      "Odd\n"
     ]
    }
   ],
   "source": [
    "a = int(input('Enter the number:'))\n",
    "if a % 2 == 0:\n",
    "    print('Even')\n",
    "else:\n",
    "    print('Odd')"
   ]
  },
  {
   "cell_type": "markdown",
   "id": "94e1ffe0-50f8-4811-803d-c1bdc404818d",
   "metadata": {},
   "source": [
    "## 4. Loops\n",
    "### 4.1 Write a program to print numbers from 1 to 10 using a for loop."
   ]
  },
  {
   "cell_type": "code",
   "execution_count": 29,
   "id": "aaf5749d-7f7c-4db1-b5a0-03051f32346f",
   "metadata": {},
   "outputs": [
    {
     "name": "stdout",
     "output_type": "stream",
     "text": [
      "1\n",
      "2\n",
      "3\n",
      "4\n",
      "5\n",
      "6\n",
      "7\n",
      "8\n",
      "9\n",
      "10\n"
     ]
    }
   ],
   "source": [
    "for i in range(1, 11):\n",
    "    print(i)"
   ]
  },
  {
   "cell_type": "markdown",
   "id": "0df084ae-f9bb-4c36-97d8-f4bb519c77f7",
   "metadata": {},
   "source": [
    "### 4.2 Write a program to print numbers from 1 to 10 using a while loop."
   ]
  },
  {
   "cell_type": "code",
   "execution_count": 36,
   "id": "f814e575-2058-4120-8307-6a1ee21abc99",
   "metadata": {},
   "outputs": [
    {
     "name": "stdout",
     "output_type": "stream",
     "text": [
      "1\n",
      "2\n",
      "3\n",
      "4\n",
      "5\n",
      "6\n",
      "7\n",
      "8\n",
      "9\n",
      "10\n"
     ]
    }
   ],
   "source": [
    "i = 1\n",
    "while i <= 10:\n",
    "    print(i)\n",
    "    i = i + 1"
   ]
  },
  {
   "cell_type": "markdown",
   "id": "31516391-5518-4672-bcb4-d54eabe0d618",
   "metadata": {},
   "source": [
    "### 4.3 Write a program to calculate the sum of numbers from 1 to 100 using a loop."
   ]
  },
  {
   "cell_type": "code",
   "execution_count": 39,
   "id": "b80f751c-b4ed-4838-9552-d0d71696f9e3",
   "metadata": {},
   "outputs": [
    {
     "name": "stdout",
     "output_type": "stream",
     "text": [
      "5050\n"
     ]
    }
   ],
   "source": [
    "sum = 0\n",
    "for x in range(101):\n",
    "    sum = sum + x\n",
    "print(sum)"
   ]
  },
  {
   "cell_type": "markdown",
   "id": "df8972da-9e02-4786-8dd8-5341e38cd48b",
   "metadata": {},
   "source": [
    "## 5. Data Structures\n",
    "### 5.1 Create a list of 5 numbers. Write a program to find the largest and smallest \n",
    "numbers in the list."
   ]
  },
  {
   "cell_type": "code",
   "execution_count": 44,
   "id": "425d653a-edd2-41f7-a296-846a3aaf8e3f",
   "metadata": {},
   "outputs": [
    {
     "name": "stdout",
     "output_type": "stream",
     "text": [
      "The largest number is: 7\n",
      "The smallest number is: 1\n"
     ]
    }
   ],
   "source": [
    "l = [3, 1, 7, 5, 2]\n",
    "print('The largest number is:', max(l))\n",
    "print('The smallest number is:', min(l))"
   ]
  },
  {
   "cell_type": "markdown",
   "id": "df99b277-b2f9-4991-b741-58fe832beec6",
   "metadata": {},
   "source": [
    "### 5.2 Create a dictionary with at least 3 key-value pairs. Write a program to retrieve the value of a given key."
   ]
  },
  {
   "cell_type": "code",
   "execution_count": 47,
   "id": "a35a472d-fc02-430f-85e8-5edd608007af",
   "metadata": {},
   "outputs": [
    {
     "data": {
      "text/plain": [
       "'animal'"
      ]
     },
     "execution_count": 47,
     "metadata": {},
     "output_type": "execute_result"
    }
   ],
   "source": [
    "d = {'lion' : 'animal', 'peacock' : 'bird', 'housefly' : 'insect'}\n",
    "d.get('lion', 'error')"
   ]
  },
  {
   "cell_type": "markdown",
   "id": "3e93faa7-8e7a-422e-865d-709bb74eccf0",
   "metadata": {},
   "source": [
    "### 5.3 Write a program to sort a list of numbers in ascending and descending order."
   ]
  },
  {
   "cell_type": "code",
   "execution_count": 50,
   "id": "4e8cdc3b-180f-4540-9a3f-2604bfe94891",
   "metadata": {},
   "outputs": [
    {
     "name": "stdout",
     "output_type": "stream",
     "text": [
      "The list in ascending order: [1, 2, 3, 5, 7]\n",
      "The list in decsending order: [7, 5, 3, 2, 1]\n"
     ]
    }
   ],
   "source": [
    "l = [3, 1, 7, 5, 2]\n",
    "l.sort()\n",
    "print('The list in ascending order:', l)\n",
    "l.sort(reverse = True)\n",
    "print('The list in decsending order:', l)"
   ]
  },
  {
   "cell_type": "markdown",
   "id": "7116035d-5615-419b-a7fd-2d2eeed2763a",
   "metadata": {},
   "source": [
    "### 5.4 Write a program to merge two dictionaries into one."
   ]
  },
  {
   "cell_type": "code",
   "execution_count": 66,
   "id": "30d948fa-5cf2-4a40-87ec-1f7d3d1be6bd",
   "metadata": {},
   "outputs": [
    {
     "name": "stdout",
     "output_type": "stream",
     "text": [
      "{'make': 'Ford', 'model': 'Endeavour', 'year': 2022, 'colour': 'White', 'mileage': 12000}\n"
     ]
    }
   ],
   "source": [
    "d1 = {'make' : 'Ford', 'model' : 'Endeavour'}\n",
    "d2 = {'year' : 2022, 'colour' : 'White', 'mileage' : 12000}\n",
    "d1.update(d2)\n",
    "print(d1)"
   ]
  },
  {
   "cell_type": "markdown",
   "id": "e9b3d706-9d15-4187-8831-a571dbe90b45",
   "metadata": {},
   "source": [
    "## 6. Strings\n",
    "### 6.1 Write a program to count the number of vowels in a given string."
   ]
  },
  {
   "cell_type": "code",
   "execution_count": 86,
   "id": "fd6d9ada-4159-4d21-8cf5-9aa906b39963",
   "metadata": {},
   "outputs": [
    {
     "name": "stdin",
     "output_type": "stream",
     "text": [
      "Enter a string: Hey Bixby\n"
     ]
    },
    {
     "name": "stdout",
     "output_type": "stream",
     "text": [
      "2\n"
     ]
    }
   ],
   "source": [
    "s = input('Enter a string:')\n",
    "count_vowels = 0\n",
    "for i in s:\n",
    "    i.lower()\n",
    "    if i == 'a' or i == 'e' or i == 'i' or i == 'o' or i == 'u':\n",
    "        count_vowels = count_vowels + 1\n",
    "print(count_vowels)"
   ]
  },
  {
   "cell_type": "markdown",
   "id": "56d3447a-f28b-4f25-9066-9af41947320e",
   "metadata": {},
   "source": [
    "### 6.2 Write a program to reverse a string and print it."
   ]
  },
  {
   "cell_type": "code",
   "execution_count": 88,
   "id": "6916bb5f-5a80-4146-99e2-2676eef81f2e",
   "metadata": {},
   "outputs": [
    {
     "name": "stdin",
     "output_type": "stream",
     "text": [
      "Enter a string: Serenity\n"
     ]
    },
    {
     "name": "stdout",
     "output_type": "stream",
     "text": [
      "ytinereS\n"
     ]
    }
   ],
   "source": [
    "s = input('Enter a string:')\n",
    "s = s[::-1]\n",
    "print(s)"
   ]
  },
  {
   "cell_type": "markdown",
   "id": "f6fd7f91-97b2-4aae-a1f2-c7f8e88a1375",
   "metadata": {},
   "source": [
    "### 6.3 Write a program to check if a string is a palindrome."
   ]
  },
  {
   "cell_type": "code",
   "execution_count": 90,
   "id": "21f011c9-efe8-4b0c-a4b8-6bccd35a05bc",
   "metadata": {},
   "outputs": [
    {
     "name": "stdin",
     "output_type": "stream",
     "text": [
      "Enter a string: noon\n"
     ]
    },
    {
     "name": "stdout",
     "output_type": "stream",
     "text": [
      "Palindrome\n"
     ]
    }
   ],
   "source": [
    "s = input('Enter a string:')\n",
    "if s == s[::-1]:\n",
    "    print('Palindrome')\n",
    "else:\n",
    "    print('Not Palindrome')"
   ]
  },
  {
   "cell_type": "markdown",
   "id": "f86e8887-7a5b-4950-bb90-2004c2551ca3",
   "metadata": {},
   "source": [
    "## 7. File Handling\n",
    "### 7.1 Write a program to create a text file, write some text into it, and then read and print the content."
   ]
  },
  {
   "cell_type": "code",
   "execution_count": 111,
   "id": "2ffc56b8-00bb-4e82-9ed4-d515d56a3cfd",
   "metadata": {},
   "outputs": [
    {
     "name": "stdout",
     "output_type": "stream",
     "text": [
      "File Content is:\n",
      " Every day is a new opportunity to learn, grow, and make a difference.\n"
     ]
    }
   ],
   "source": [
    "file_name = 'f.txt'\n",
    "with open(file_name, 'w') as file:\n",
    "    file.write('Every day is a new opportunity to learn, grow, and make a difference.')\n",
    "with open(file_name, 'r') as file:\n",
    "    a = file.read()\n",
    "print('File Content is:\\n', a)"
   ]
  },
  {
   "cell_type": "markdown",
   "id": "c73dbbd3-48a3-4a44-add8-bf4aa12812d8",
   "metadata": {},
   "source": [
    "### 7.2 Write a program to append text to an existing file and print the updated content."
   ]
  },
  {
   "cell_type": "code",
   "execution_count": 113,
   "id": "c77bd63b-ba9e-4c48-9c16-50c06645df22",
   "metadata": {},
   "outputs": [
    {
     "name": "stdout",
     "output_type": "stream",
     "text": [
      "File Content is:\n",
      " Every day is a new opportunity to learn, grow, and make a difference.\n",
      "The journey of a thousand miles begins with a single step.\n"
     ]
    }
   ],
   "source": [
    "file_name = 'f.txt'\n",
    "with open(file_name, 'a') as file:\n",
    "    file.write('\\nThe journey of a thousand miles begins with a single step.')\n",
    "with open(file_name, 'r') as file:\n",
    "    a = file.read()\n",
    "print('File Content is:\\n', a)"
   ]
  },
  {
   "cell_type": "markdown",
   "id": "d94def4e-46ff-433c-838e-1075be996008",
   "metadata": {},
   "source": [
    "### 7.3 Write a program to count the number of lines in a text file."
   ]
  },
  {
   "cell_type": "code",
   "execution_count": 115,
   "id": "76194d79-a87b-4404-8c55-9bb8babe19ea",
   "metadata": {},
   "outputs": [
    {
     "name": "stdout",
     "output_type": "stream",
     "text": [
      "2\n"
     ]
    }
   ],
   "source": [
    "file_name = 'f.txt'\n",
    "with open(file_name, 'r') as file:\n",
    "    lines = file.readlines()\n",
    "    line_count = len(lines)\n",
    "print(line_count)"
   ]
  },
  {
   "cell_type": "markdown",
   "id": "04d64bb8-553c-475d-b912-140b4107beab",
   "metadata": {},
   "source": [
    "## 8. Exception Handling\n",
    "### 8.1 Write a program to handle division by zero using a try-except block."
   ]
  },
  {
   "cell_type": "code",
   "execution_count": 122,
   "id": "8098302b-bdc1-4082-a1d1-976f57b43575",
   "metadata": {},
   "outputs": [
    {
     "name": "stdin",
     "output_type": "stream",
     "text": [
      "Enter a number: 4\n",
      "Enter other number: 0\n"
     ]
    },
    {
     "name": "stdout",
     "output_type": "stream",
     "text": [
      "Not able to divide by Zero!\n"
     ]
    }
   ],
   "source": [
    "try:\n",
    "    a = int(input('Enter a number:'))\n",
    "    b = int(input('Enter other number:'))\n",
    "    num = a / b\n",
    "except ZeroDivisionError:\n",
    "    print('Not able to divide by Zero!')"
   ]
  },
  {
   "cell_type": "markdown",
   "id": "6f4eeb8d-927e-46d6-8a91-cd57b3b721f6",
   "metadata": {},
   "source": [
    "### 8.2 Write a program to handle invalid input (e.g., when the user enters a string instead of a number)."
   ]
  },
  {
   "cell_type": "code",
   "execution_count": 127,
   "id": "e0ed2043-ccd2-4b6a-af0f-869e9cd49165",
   "metadata": {},
   "outputs": [
    {
     "name": "stdin",
     "output_type": "stream",
     "text": [
      "Enter a number: 5A\n"
     ]
    },
    {
     "name": "stdout",
     "output_type": "stream",
     "text": [
      "Wrong input!\n"
     ]
    }
   ],
   "source": [
    "try:\n",
    "    num = input('Enter a number:')\n",
    "    num = int(num)\n",
    "except ValueError:\n",
    "    print('Wrong input!')"
   ]
  },
  {
   "cell_type": "markdown",
   "id": "f05f0bd1-a64c-4d2a-8095-dbd64133a430",
   "metadata": {},
   "source": [
    "### 8.3 Write a program to demonstrate the use of finally in exception handling."
   ]
  },
  {
   "cell_type": "code",
   "execution_count": 130,
   "id": "7d876199-6f35-4294-87f3-856ab9853f6d",
   "metadata": {},
   "outputs": [
    {
     "name": "stdin",
     "output_type": "stream",
     "text": [
      "Enter the number 2\n",
      "Enter the number: 0\n"
     ]
    },
    {
     "name": "stdout",
     "output_type": "stream",
     "text": [
      "Not able to divide by Zero!\n",
      "Bye\n"
     ]
    }
   ],
   "source": [
    "try:\n",
    "    a = int(input('Enter the number'))\n",
    "    b = int(input('Enter the number:'))\n",
    "    c = a / b\n",
    "except ZeroDivisionError:\n",
    "    print('Not able to divide by Zero!')\n",
    "finally:\n",
    "    print('Bye')"
   ]
  },
  {
   "cell_type": "markdown",
   "id": "183bf6ab-7374-4799-8676-2f8952d57510",
   "metadata": {},
   "source": [
    "## 9. Random Numbers\n",
    "### 9.1 Write a program to generate 5 random numbers between 1 and 100 and print them"
   ]
  },
  {
   "cell_type": "code",
   "execution_count": 135,
   "id": "55e51805-4d44-46cd-9bfc-3286e8f5ea14",
   "metadata": {},
   "outputs": [
    {
     "name": "stdout",
     "output_type": "stream",
     "text": [
      "45\n",
      "31\n",
      "37\n",
      "38\n",
      "62\n"
     ]
    }
   ],
   "source": [
    "import random\n",
    "for i in range(5):\n",
    "    n = random.randint(1, 100)\n",
    "    print(n)"
   ]
  },
  {
   "cell_type": "markdown",
   "id": "46c6b325-642c-497e-91ac-90e0ec309cfd",
   "metadata": {},
   "source": [
    "### 9.2 Write a program to generate a random number and check if it is prime."
   ]
  },
  {
   "cell_type": "code",
   "execution_count": 148,
   "id": "c1f280a1-0ab1-4d11-95e2-b06c53b07635",
   "metadata": {},
   "outputs": [
    {
     "name": "stdout",
     "output_type": "stream",
     "text": [
      "73 is a prime number.\n"
     ]
    }
   ],
   "source": [
    "import math\n",
    "num = random.randint(1, 100)\n",
    "flag = 0\n",
    "for i in range(2, int(math.sqrt(num))):\n",
    "    if num % i == 0:\n",
    "        flag = 1\n",
    "        break\n",
    "if flag == 0:\n",
    "    print(f'{num} is a prime number.')\n",
    "else:\n",
    "    print(f'{num} is not a prime number.')"
   ]
  },
  {
   "cell_type": "markdown",
   "id": "74cc3cb9-7753-4d0f-bf05-59ca5ffc796a",
   "metadata": {},
   "source": [
    "### 9.3 Write a program to simulate rolling a six-sided die."
   ]
  },
  {
   "cell_type": "code",
   "execution_count": 151,
   "id": "20c694ff-3c89-4f98-9eb4-a720556f86bc",
   "metadata": {},
   "outputs": [
    {
     "name": "stdout",
     "output_type": "stream",
     "text": [
      "You got 2\n"
     ]
    }
   ],
   "source": [
    "def roll_die():\n",
    "    return random.randint(1, 6)\n",
    "num = roll_die()\n",
    "print(f'You got {num}')"
   ]
  },
  {
   "cell_type": "markdown",
   "id": "89879a44-f3c4-437a-b3f1-fd1a1debe6c8",
   "metadata": {},
   "source": [
    "### 9.4 Write a program to shuffle a list of numbers."
   ]
  },
  {
   "cell_type": "code",
   "execution_count": 154,
   "id": "a375c360-df37-4428-9cd2-506afd3d6d5c",
   "metadata": {},
   "outputs": [
    {
     "name": "stdout",
     "output_type": "stream",
     "text": [
      "[3, 1, 6, 4, 5, 2]\n"
     ]
    }
   ],
   "source": [
    "list = [1, 2, 3, 4, 5, 6]\n",
    "random.shuffle(list)\n",
    "print(list)"
   ]
  },
  {
   "cell_type": "markdown",
   "id": "51abacd8-3a7e-451e-afbb-63d1c743497d",
   "metadata": {},
   "source": [
    "### 9.5 Write a program to randomly select an item from a list."
   ]
  },
  {
   "cell_type": "code",
   "execution_count": 159,
   "id": "fc6ae71e-1270-4022-93ff-9f263990f9f0",
   "metadata": {},
   "outputs": [
    {
     "name": "stdout",
     "output_type": "stream",
     "text": [
      "5\n"
     ]
    }
   ],
   "source": [
    "list = [1, 2, 3, 4, 5, 6]\n",
    "num = random.choice(list)\n",
    "print(num)"
   ]
  },
  {
   "cell_type": "markdown",
   "id": "3d5a930f-02f3-414c-9646-7c349254e630",
   "metadata": {},
   "source": [
    "### 9.6 Write a program to generate a random password of given length."
   ]
  },
  {
   "cell_type": "code",
   "execution_count": 166,
   "id": "5743d02e-4fde-4bed-8ea2-b2ba5e7c5463",
   "metadata": {},
   "outputs": [
    {
     "name": "stdin",
     "output_type": "stream",
     "text": [
      "Enter the length: 10\n"
     ]
    },
    {
     "name": "stdout",
     "output_type": "stream",
     "text": [
      "<\"0rk./I$7\n"
     ]
    }
   ],
   "source": [
    "import string\n",
    "length = int(input('Enter the length:'))\n",
    "char = string.ascii_letters + string.punctuation + string.digits\n",
    "password = ''.join(random.choice(char) for i in range(length))\n",
    "print(password)"
   ]
  },
  {
   "cell_type": "markdown",
   "id": "ae00b68b-85c7-4aa2-8a0e-56c84533a179",
   "metadata": {},
   "source": [
    "### 9.7 Write a program to pick a random card from a standard deck of 52 cards"
   ]
  },
  {
   "cell_type": "code",
   "execution_count": 171,
   "id": "50f1fe95-562a-4fbf-9b95-d52dc8c47272",
   "metadata": {},
   "outputs": [
    {
     "name": "stdout",
     "output_type": "stream",
     "text": [
      "7 of Clubs\n"
     ]
    }
   ],
   "source": [
    "suit = ['Diamond', 'Spades', 'Hearts', 'Clubs']\n",
    "rank = ['2', '3', '4', '5', '6', '7', '8', '9', 'Jack', 'Queen', 'King', 'Ace']\n",
    "s = random.choice(suit)\n",
    "r = random.choice(rank)\n",
    "print(f\"{r} of {s}\")"
   ]
  },
  {
   "cell_type": "markdown",
   "id": "2396e3b0-7984-4ea4-ac5b-51883b8b9ab5",
   "metadata": {},
   "source": [
    "## 10. Command Line Arguments\n",
    "### 10.1 Write a program to accept two numbers as command-line arguments, add them, and print the result."
   ]
  },
  {
   "cell_type": "code",
   "execution_count": null,
   "id": "5358b8dd-6a91-4916-867c-08792c746567",
   "metadata": {},
   "outputs": [],
   "source": [
    "import sys\n",
    "if len(sys.argv) != 3:\n",
    "    print('Give two numbers as command line arguments')\n",
    "else:\n",
    "    num1 = float(sys.argv[1])\n",
    "    num2 = float(sys.argv[2])\n",
    "    res = num1 + num2\n",
    "    print(res)"
   ]
  },
  {
   "attachments": {
    "50de0fb3-95fe-4aba-af32-fe6d1217fc8d.png": {
     "image/png": "[encoded data removed]"
    }
   },
   "cell_type": "markdown",
   "id": "33d27342-a022-4a99-bbac-39607b2ee3b2",
   "metadata": {},
   "source": [
    "![image.png](attachment:50de0fb3-95fe-4aba-af32-fe6d1217fc8d.png)"
   ]
  },
  {
   "cell_type": "markdown",
   "id": "f3a5c123-8dbd-4275-9d6f-47d78223acad",
   "metadata": {},
   "source": [
    "### 10.2 Write a program to accept a string as a command-line argument and print its length."
   ]
  },
  {
   "cell_type": "code",
   "execution_count": null,
   "id": "0464edd1-929b-4cbd-802e-36faed71249e",
   "metadata": {},
   "outputs": [],
   "source": [
    "import sys\n",
    "s = sys.argv[1]\n",
    "print(len(s))"
   ]
  },
  {
   "attachments": {
    "b6c1981e-a321-4414-9c9b-2371a020ff20.png": {
     "image/png": "[encoded data removed]"
    }
   },
   "cell_type": "markdown",
   "id": "65c4c56f-ddfe-4a4f-a855-96ce8ba18819",
   "metadata": {},
   "source": [
    "![image.png](attachment:b6c1981e-a321-4414-9c9b-2371a020ff20.png)"
   ]
  },
  {
   "cell_type": "markdown",
   "id": "b815d9c3-83e6-464e-8341-3b0c751f3f93",
   "metadata": {},
   "source": [
    "## 11. Use of Libraries\n",
    "### 11.1 Write a program to use the math library to calculate the square root of a given number."
   ]
  },
  {
   "cell_type": "code",
   "execution_count": 184,
   "id": "18236770-b33c-4b3e-9d56-d6f4ef39af94",
   "metadata": {},
   "outputs": [
    {
     "name": "stdin",
     "output_type": "stream",
     "text": [
      "Enter the number: 25\n"
     ]
    },
    {
     "name": "stdout",
     "output_type": "stream",
     "text": [
      "5.0\n"
     ]
    }
   ],
   "source": [
    "import math\n",
    "n = int(input('Enter the number:'))\n",
    "print(math.sqrt(n))"
   ]
  },
  {
   "cell_type": "markdown",
   "id": "8800d9f8-a546-4209-af94-803c04e84bec",
   "metadata": {},
   "source": [
    "### 11.2 Write a program to use the datetime library to print the current date and time."
   ]
  },
  {
   "cell_type": "code",
   "execution_count": 189,
   "id": "b1de05dd-e6a9-4eb5-834e-a582f5f0299f",
   "metadata": {},
   "outputs": [
    {
     "name": "stdout",
     "output_type": "stream",
     "text": [
      "2025-01-11 16:37:30.092481\n"
     ]
    }
   ],
   "source": [
    "from datetime import datetime\n",
    "print(datetime.now())"
   ]
  },
  {
   "cell_type": "markdown",
   "id": "1eba8263-19d8-4641-a517-2e634d632417",
   "metadata": {},
   "source": [
    "### 11.3 Write a program to use the os library to list all files in the current directory."
   ]
  },
  {
   "cell_type": "code",
   "execution_count": 192,
   "id": "9b2eecb7-6b66-431f-9067-f71f95e44e3a",
   "metadata": {},
   "outputs": [
    {
     "name": "stdout",
     "output_type": "stream",
     "text": [
      ".bash_history\n",
      ".condarc\n",
      ".emulator_console_auth_token\n",
      ".gitconfig\n",
      ".node_repl_history\n",
      "Assignment.ipynb\n",
      "f.txt\n",
      "NTUSER.DAT\n",
      "ntuser.dat.LOG1\n",
      "ntuser.dat.LOG2\n",
      "NTUSER.DAT{2ad838bb-efea-11ee-a54d-000d3a94eaa1}.TxR.0.regtrans-ms\n",
      "NTUSER.DAT{2ad838bb-efea-11ee-a54d-000d3a94eaa1}.TxR.1.regtrans-ms\n",
      "NTUSER.DAT{2ad838bb-efea-11ee-a54d-000d3a94eaa1}.TxR.2.regtrans-ms\n",
      "NTUSER.DAT{2ad838bb-efea-11ee-a54d-000d3a94eaa1}.TxR.blf\n",
      "NTUSER.DAT{2ad838bc-efea-11ee-a54d-000d3a94eaa1}.TM.blf\n",
      "NTUSER.DAT{2ad838bc-efea-11ee-a54d-000d3a94eaa1}.TMContainer00000000000000000001.regtrans-ms\n",
      "NTUSER.DAT{2ad838bc-efea-11ee-a54d-000d3a94eaa1}.TMContainer00000000000000000002.regtrans-ms\n",
      "ntuser.ini\n",
      "Untitled1.ipynb\n"
     ]
    }
   ],
   "source": [
    "import os\n",
    "cur = os.getcwd()\n",
    "files = [f for f in os.listdir(cur) if os.path.isfile(os.path.join(cur, f))]\n",
    "for file in files:\n",
    "    print(file)"
   ]
  }
 ],
 "metadata": {
  "kernelspec": {
   "display_name": "Python [conda env:base] *",
   "language": "python",
   "name": "conda-base-py"
  },
  "language_info": {
   "codemirror_mode": {
    "name": "ipython",
    "version": 3
   },
   "file_extension": ".py",
   "mimetype": "text/x-python",
   "name": "python",
   "nbconvert_exporter": "python",
   "pygments_lexer": "ipython3",
   "version": "3.11.7"
  }
 },
 "nbformat": 4,
 "nbformat_minor": 5
}
