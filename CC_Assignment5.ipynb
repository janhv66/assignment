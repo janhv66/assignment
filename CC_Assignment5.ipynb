{
 "cells": [
  {
   "cell_type": "markdown",
   "id": "04f59429-9492-4e88-b33a-99b9f574a5d9",
   "metadata": {},
   "source": [
    "# Q1. For the array gfg = np.matrix('[4, 1, 9; 12, 3, 1; 4, 5, 6]'), Find\n",
    "1. Sum of all elements\n",
    "2. Sum of all elements row-wise\n",
    "3. Sum of all elements column-wise"
   ]
  },
  {
   "cell_type": "code",
   "execution_count": 6,
   "id": "f3433396-2cfb-423f-b3ba-74f2bb6b06f9",
   "metadata": {},
   "outputs": [
    {
     "name": "stdout",
     "output_type": "stream",
     "text": [
      "Sum of all elements: 45\n",
      "Sum of all elements row-wise: [[14]\n",
      " [16]\n",
      " [15]]\n",
      "Sum of all elements column-wise: [[20  9 16]]\n"
     ]
    }
   ],
   "source": [
    "import numpy as np\n",
    "gfg = np.matrix('[4, 1, 9; 12, 3, 1; 4, 5, 6]')\n",
    "sum = np.sum(gfg)\n",
    "sumRow = np.sum(gfg, axis = 1)\n",
    "sumCol = np.sum(gfg, axis = 0)\n",
    "print(\"Sum of all elements:\", sum)\n",
    "print(\"Sum of all elements row-wise:\", sumRow)\n",
    "print(\"Sum of all elements column-wise:\", sumCol)"
   ]
  },
  {
   "cell_type": "markdown",
   "id": "5ab43e56-3fc7-401c-a894-9de005db1697",
   "metadata": {},
   "source": [
    "# Q.2\n",
    "- For the array: array = np.array([10, 52, 62, 16, 16, 54, 453]), find\n",
    "  1. Sorted array\n",
    "  2. Indices of sorted array\n",
    "  3. 4 smallest elements\n",
    "  4. 5 largest elements\n",
    "- For the array: array = np.array([1.0, 1.2, 2.2, 2.0, 3.0, 2.0]), find\n",
    "  1. Integer elements only\n",
    "  2. Float elements only"
   ]
  },
  {
   "cell_type": "code",
   "execution_count": 25,
   "id": "2d179286-cc7b-4aa4-89f7-891508d0c275",
   "metadata": {},
   "outputs": [
    {
     "name": "stdout",
     "output_type": "stream",
     "text": [
      "Sorted array: [ 10  16  16  52  54  62 453]\n",
      "Indices of Sorted array: [0 3 4 1 5 2 6]\n",
      "4 Smallest elements: [16 10 16 52]\n",
      "5 Largest elements: [ 16  52  62  54 453]\n",
      "Integer array: [1. 2. 3. 2.]\n",
      "Float array: [1.  1.2 2.2 2.  3.  2. ]\n"
     ]
    }
   ],
   "source": [
    "array = np.array([10, 52, 62, 16, 16, 54, 453])\n",
    "sortedArr = np.sort(array)\n",
    "indices = np.argsort(array)\n",
    "smallestEle = np.partition(array, 4)[:4]\n",
    "largestEle = np.partition(array, -5)[-5:]\n",
    "print(\"Sorted array:\", sortedArr)\n",
    "print(\"Indices of Sorted array:\", indices)\n",
    "print(\"4 Smallest elements:\", smallestEle)\n",
    "print(\"5 Largest elements:\", largestEle)\n",
    "array = np.array([1.0, 1.2, 2.2, 2.0, 3.0, 2.0])\n",
    "intArr = array[array == array.astype(int)]\n",
    "floatArr = array[array == array.astype(float)]\n",
    "print(\"Integer array:\", intArr)\n",
    "print(\"Float array:\", floatArr)"
   ]
  },
  {
   "cell_type": "markdown",
   "id": "d09a8399-7e2c-4e14-b0f6-4766462f19b7",
   "metadata": {},
   "source": [
    "# Q.3 You are given a weekly sales dataset and need to perform various operations using NumPy broadcasting.\n",
    "- Generate your unique sales dataset:\n",
    "  * Take the sum of the ASCII values of the initials of your first and last name. Call this value X. (If your initials are A B → ASCII sum = 65 + 66 = 131 → sales = [131, 181, 231, 281, 331].)\n",
    "  * Create a NumPy array sales with values [X, X + 50, X+100, X+150, X+200].\n",
    "- Compute your personalized tax rate as ((X % 5) + 5) / 100.\n",
    "  * Use broadcasting to apply this tax rate to each sales value.\n",
    "- Adjust sales based on discount:\n",
    "  * If sales < X+100, apply a 5% discount.\n",
    "  * If sales >= X+100, apply a 10% discount.\n",
    "- Expand sales data for multiple weeks:\n",
    "  * Create a 3X5 matrix representing three weeks of sales by stacking sales three times using broadcasting.\n",
    "  * Increase sales by 2% per week using element-wise broadcasting."
   ]
  },
  {
   "cell_type": "code",
   "execution_count": 33,
   "id": "9dbe3ecc-d380-4d27-8b70-94d988bc9876",
   "metadata": {},
   "outputs": [
    {
     "name": "stdout",
     "output_type": "stream",
     "text": [
      "Sales Data: [147 197 247 297 347]\n",
      "Taxed Sales: [10.29 13.79 17.29 20.79 24.29]\n",
      "Discounted Sales: [139.65 187.15 222.3  267.3  312.3 ]\n",
      "Adjusted Weekly Sales: [[139.65  187.15  222.3   267.3   312.3  ]\n",
      " [142.443 190.893 226.746 272.646 318.546]\n",
      " [145.236 194.636 231.192 277.992 324.792]]\n"
     ]
    }
   ],
   "source": [
    "first_initial = 'J'\n",
    "last_initial = 'I'\n",
    "X = ord(first_initial) + ord(last_initial)\n",
    "sales = np.array([X, X+50, X+100, X+150, X+200])\n",
    "print(\"Sales Data:\", sales)\n",
    "tax_rate = ((X%5) + 5) / 100\n",
    "taxed_sales = sales * tax_rate\n",
    "print(\"Taxed Sales:\", taxed_sales)\n",
    "discounted_sales = np.where(sales<X+100, sales *0.95, sales * 0.90)\n",
    "print(\"Discounted Sales:\", discounted_sales)\n",
    "weeks = 3\n",
    "weekly_sales = np.tile(discounted_sales, (weeks, 1))\n",
    "week_factors = np.array([1.00, 1.02, 1.04]).reshape(3, 1)\n",
    "adjusted_weekly_sales = weekly_sales * week_factors\n",
    "print(\"Adjusted Weekly Sales:\", adjusted_weekly_sales)"
   ]
  },
  {
   "cell_type": "markdown",
   "id": "e227d21d-4015-405f-a28d-9645cf4bf3f8",
   "metadata": {},
   "source": [
    "# Q.4 Generate x values using np.linspace() from -10 to 10 with 100points. Use each function from the list below and compute y values using NumPy:\n",
    "* Y = x^2\n",
    "* Y = sin(x)\n",
    "* Y = e^x\n",
    "* Y = log(|x| + 1)\n",
    "# Plot the chosen function using Matplotlib. Add title, labels, and grid for clarity."
   ]
  },
  {
   "cell_type": "code",
   "execution_count": 66,
   "id": "c02da29f-5550-4b40-b756-fbed0e32e1ec",
   "metadata": {},
   "outputs": [
    {
     "data": {
      "image/png": "[encoded data removed]",
      "text/plain": [
       "<Figure size 640x480 with 1 Axes>"
      ]
     },
     "metadata": {},
     "output_type": "display_data"
    }
   ],
   "source": [
    "import matplotlib.pyplot as plt\n",
    "x = np.linspace(-10, 10, 100)\n",
    "y1 = x**2\n",
    "y2 = np.sin(x)\n",
    "y3 = np.exp(x)\n",
    "y4 = np.log(np.abs(x) + 1)\n",
    "plt.plot(x, y1, label = r'$y = x^2$')\n",
    "plt.plot(x, y2, label = r'$y = \\sin(x)$')\n",
    "plt.plot(x, y3, label = r'$y = e^x$')\n",
    "plt.plot(x, y4, label = r'$y = \\log(|x| + 1)$')\n",
    "plt.xlabel(\"x\")\n",
    "plt.ylabel(\"y\")\n",
    "plt.legend()\n",
    "plt.show()"
   ]
  }
 ],
 "metadata": {
  "kernelspec": {
   "display_name": "Python [conda env:base] *",
   "language": "python",
   "name": "conda-base-py"
  },
  "language_info": {
   "codemirror_mode": {
    "name": "ipython",
    "version": 3
   },
   "file_extension": ".py",
   "mimetype": "text/x-python",
   "name": "python",
   "nbconvert_exporter": "python",
   "pygments_lexer": "ipython3",
   "version": "3.11.7"
  }
 },
 "nbformat": 4,
 "nbformat_minor": 5
}
